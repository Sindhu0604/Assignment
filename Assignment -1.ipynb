{
 "cells": [
  {
   "cell_type": "markdown",
   "id": "be8fa401",
   "metadata": {},
   "source": [
    "## Find sum of element wise difference between two lists using Python (Level : 0 )\n"
   ]
  },
  {
   "cell_type": "code",
   "execution_count": 1,
   "id": "50d8d408",
   "metadata": {},
   "outputs": [
    {
     "name": "stdout",
     "output_type": "stream",
     "text": [
      "[2, 2, 8, 6, 1, 8]\n",
      "27\n"
     ]
    }
   ],
   "source": [
    "list1 = [6,1,15,8,6,2,8,6]\n",
    "list2 = [8,3,7,2,6,1,0,6]\n",
    "difference=[]\n",
    "for i ,j in zip(list1,list2):\n",
    "        if i<j:\n",
    "            difference.append(j-i)\n",
    "        elif i>j:\n",
    "            difference.append(i-j)\n",
    "print(difference)\n",
    "l=difference\n",
    "add=0\n",
    "for k in l:\n",
    "    add+=k\n",
    "print(add)\n",
    "\n"
   ]
  },
  {
   "cell_type": "code",
   "execution_count": null,
   "id": "784a62a3",
   "metadata": {},
   "outputs": [],
   "source": []
  }
 ],
 "metadata": {
  "kernelspec": {
   "display_name": "Python 3 (ipykernel)",
   "language": "python",
   "name": "python3"
  },
  "language_info": {
   "codemirror_mode": {
    "name": "ipython",
    "version": 3
   },
   "file_extension": ".py",
   "mimetype": "text/x-python",
   "name": "python",
   "nbconvert_exporter": "python",
   "pygments_lexer": "ipython3",
   "version": "3.10.9"
  }
 },
 "nbformat": 4,
 "nbformat_minor": 5
}
